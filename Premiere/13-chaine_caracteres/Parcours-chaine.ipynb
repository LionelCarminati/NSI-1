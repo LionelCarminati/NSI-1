{
 "cells": [
  {
   "cell_type": "markdown",
   "metadata": {},
   "source": [
    "# <center> Parcours par index d'une chaîne de caractères"
   ]
  },
  {
   "cell_type": "markdown",
   "metadata": {},
   "source": [
    "> **Travail à faire** : Exécutez la cellule ci-dessous pour importer les modules necessaires"
   ]
  },
  {
   "cell_type": "code",
   "execution_count": null,
   "metadata": {},
   "outputs": [],
   "source": [
    "from solution import *"
   ]
  },
  {
   "cell_type": "markdown",
   "metadata": {},
   "source": [
    "---\n",
    "## 1. Rappels sur les chaînes de caractères\n",
    "### 1.1. Indexation d'une chaîne de caractères\n",
    "\n",
    "Une chaîne de caractère est indexée, c'est à dire que chaque caractère de la chaîne possède un indice. Le caractère le plus à gauche possède l'indice 0.\n",
    "> **Travail à faire** : Exécutez la cellule ci-dessous pour accéder au premier élément de la chaine *c*"
   ]
  },
  {
   "cell_type": "code",
   "execution_count": null,
   "metadata": {},
   "outputs": [],
   "source": [
    "c = 'tata'\n",
    "c[0]"
   ]
  },
  {
   "cell_type": "markdown",
   "metadata": {},
   "source": [
    "### 1.2. Non-mutabilité d'une chaîne de caractères\n",
    "\n",
    "Une chaîne de caractères est **non-mutable**, c'est à dire qu'on ne peut pas modifier directement l'un de ses éléments. L'instruction :\n",
    "```python\n",
    "chaine[i] = valeur\n",
    "```\n",
    "ne permet pas d'affecter `valeur` à la position *i* de la chaîne de caractère. Cette instruction renvoie une erreur.\n",
    "> **Travail à faire** : Exécutez la cellule ci-dessous pour modifier la chaine *c*"
   ]
  },
  {
   "cell_type": "code",
   "execution_count": null,
   "metadata": {},
   "outputs": [],
   "source": [
    "c[1] = 'a'"
   ]
  },
  {
   "cell_type": "markdown",
   "metadata": {},
   "source": [
    "### 1.3. Contournement du problème\n",
    "\n",
    "Une solution pour contourner ce problème consiste à utiliser la concaténation. Le résultat d'une concaténation est une nouvelle chaîne de caractères.\n",
    "> **Travail à faire** : Exécutez la cellule ci-dessous illustrant la concaténation."
   ]
  },
  {
   "cell_type": "code",
   "execution_count": null,
   "metadata": {},
   "outputs": [],
   "source": [
    "'toto' + 'tata'"
   ]
  },
  {
   "cell_type": "markdown",
   "metadata": {},
   "source": [
    "### 1.4. Ajout d'un élément en dernière position d'un tuple\n",
    "\n",
    "La fonction *ajout_queue()*, prenant *c* (la chaîne à modifier) et *car* (le caractère à ajouter) en argument, ajoute ce caractère en dernière position de la chaîne.\n",
    "\n",
    "Pour réaliser cela : \n",
    "- on crée une chaîne de caractères vide (ligne 2),\n",
    "- on réalise un parcours par index pour recopier chaque caractère de *c* dans cette nouvelle chaîne (lignes 3 et 4),\n",
    "- on ajoute *car* à cette nouvelle chaîne (ligne 6).\n",
    "\n",
    "![algorithme](algo-1.png)"
   ]
  },
  {
   "cell_type": "markdown",
   "metadata": {},
   "source": [
    "Une implémentation de cet algorithme est présenté ci-dessous.\n",
    "> **Travail à faire** : Exécutez la cellule ci-dessous"
   ]
  },
  {
   "cell_type": "code",
   "execution_count": null,
   "metadata": {},
   "outputs": [],
   "source": [
    "def ajout_queue(c, car):\n",
    "    \"\"\"ajout d'un élément en dernière position d'un tuple\n",
    "    Entrées : c (une chaîne de caractère) et car (le caractère à ajouter)\n",
    "    Sortie : new_chaine : une chaîne de caractère\n",
    "    \"\"\"\n",
    "    new_chaine = \"\"\n",
    "    longueur = len(c)\n",
    "    for i in range (0, longueur, 1):\n",
    "        new_chaine = new_chaine + c[i]\n",
    "    new_chaine = new_chaine + car\n",
    "    return new_chaine"
   ]
  },
  {
   "cell_type": "markdown",
   "metadata": {},
   "source": [
    "L'appel de cette fonction s'effectue de façon classique.\n",
    "> **Travail à faire** : Exécutez la cellule ci-dessous pour voir un exemple d'appel"
   ]
  },
  {
   "cell_type": "code",
   "execution_count": null,
   "metadata": {},
   "outputs": [],
   "source": [
    "ajout_queue(c, 's')"
   ]
  },
  {
   "cell_type": "markdown",
   "metadata": {},
   "source": [
    "---\n",
    "\n",
    "## 2. Exercices à réaliser\n",
    "On se propose de coder une fonction $saut\\_chaine()$ prenant *chaine*, une chaîne de caractères en argument, et renvoyant la chaîne de caractères en prenant un caractère sur deux.\n",
    "\n",
    "> **Travail à faire** : Exécutez la cellule ci-dessous pour voir un exemple"
   ]
  },
  {
   "cell_type": "code",
   "execution_count": null,
   "metadata": {},
   "outputs": [],
   "source": [
    "exo_saut_chaine.example(2)"
   ]
  },
  {
   "cell_type": "markdown",
   "metadata": {},
   "source": [
    "> **Travail à faire** : complétez la fonction ci-dessous, puis exécutez la."
   ]
  },
  {
   "cell_type": "code",
   "execution_count": null,
   "metadata": {},
   "outputs": [],
   "source": [
    "def saut_chaine(chaine):\n",
    "    \"\"\"renvoie la chaine en prenant un caractère sur deux\"\"\"\n",
    "    "
   ]
  },
  {
   "cell_type": "markdown",
   "metadata": {},
   "source": [
    "> **Travail à faire** : Exécutez la cellule ci-dessous pour vérifier votre travail. Si une case rouge apparaît, c'est que votre fonction n'est pas bonne. Corrigez la fonction, puis exécutez à nouveau la cellule ci-dessous jusqu'à ne faire apparaître que des cases vertes."
   ]
  },
  {
   "cell_type": "code",
   "execution_count": null,
   "metadata": {},
   "outputs": [],
   "source": [
    "exo_saut_chaine.correction(saut_chaine)"
   ]
  },
  {
   "cell_type": "markdown",
   "metadata": {},
   "source": [
    "---\n",
    "On se propose de coder une fonction $debut\\_chaine()$ prenant *chaine*, une chaîne de caractères en argument, et renvoyant la chaîne de caractères sans la dernière lettre.\n",
    "\n",
    "> **Travail à faire** : Exécutez la cellule ci-dessous pour voir un exemple"
   ]
  },
  {
   "cell_type": "code",
   "execution_count": null,
   "metadata": {},
   "outputs": [],
   "source": [
    "exo_debut_chaine.example(2)"
   ]
  },
  {
   "cell_type": "markdown",
   "metadata": {},
   "source": [
    "> **Travail à faire** : complétez la fonction ci-dessous, puis exécutez la."
   ]
  },
  {
   "cell_type": "code",
   "execution_count": null,
   "metadata": {},
   "outputs": [],
   "source": [
    "def debut_chaine(chaine):\n",
    "    \"\"\"renvoie la chaîne sans la dernière lettre\"\"\"\n",
    "    "
   ]
  },
  {
   "cell_type": "markdown",
   "metadata": {},
   "source": [
    "> **Travail à faire** : Exécutez la cellule ci-dessous pour vérifier votre travail. Si une case rouge apparaît, c'est que votre fonction n'est pas bonne. Corrigez la fonction, puis exécutez à nouveau la cellule ci-dessous jusqu'à ne faire apparaître que des cases vertes."
   ]
  },
  {
   "cell_type": "code",
   "execution_count": null,
   "metadata": {},
   "outputs": [],
   "source": [
    "exo_debut_chaine.correction(debut_chaine)"
   ]
  },
  {
   "cell_type": "markdown",
   "metadata": {},
   "source": [
    "---\n",
    "On se propose de coder une fonction $fin\\_chaine()$ prenant *chaine*, une chaîne de caractères en argument, et renvoyant la chaîne de caractères sans la première lettre.\n",
    "\n",
    "> **Travail à faire** : Exécutez la cellule ci-dessous pour voir un exemple"
   ]
  },
  {
   "cell_type": "code",
   "execution_count": null,
   "metadata": {},
   "outputs": [],
   "source": [
    "exo_fin_chaine.example(2)"
   ]
  },
  {
   "cell_type": "markdown",
   "metadata": {},
   "source": [
    "> **Travail à faire** : complétez la fonction ci-dessous, puis exécutez la."
   ]
  },
  {
   "cell_type": "code",
   "execution_count": null,
   "metadata": {},
   "outputs": [],
   "source": [
    "def fin_chaine(chaine):\n",
    "    \"\"\"renvoie la chaîne sans la première lettre\"\"\"\n",
    "    "
   ]
  },
  {
   "cell_type": "markdown",
   "metadata": {},
   "source": [
    "> **Travail à faire** : Exécutez la cellule ci-dessous pour vérifier votre travail. Si une case rouge apparaît, c'est que votre fonction n'est pas bonne. Corrigez la fonction, puis exécutez à nouveau la cellule ci-dessous jusqu'à ne faire apparaître que des cases vertes."
   ]
  },
  {
   "cell_type": "code",
   "execution_count": null,
   "metadata": {},
   "outputs": [],
   "source": [
    "exo_fin_chaine.correction(fin_chaine)"
   ]
  },
  {
   "cell_type": "markdown",
   "metadata": {},
   "source": [
    "---\n",
    "On se propose de coder une fonction $milieu\\_chaine()$ prenant *chaine*, une chaîne de caractères en argument, et renvoyant la chaîne de caractères sans la première ni la dernière lettre.\n",
    "\n",
    "> **Travail à faire** : Exécutez la cellule ci-dessous pour voir un exemple"
   ]
  },
  {
   "cell_type": "code",
   "execution_count": null,
   "metadata": {},
   "outputs": [],
   "source": [
    "exo_milieu_chaine.example(2)"
   ]
  },
  {
   "cell_type": "markdown",
   "metadata": {},
   "source": [
    "> **Travail à faire** : complétez la fonction ci-dessous, puis exécutez la."
   ]
  },
  {
   "cell_type": "code",
   "execution_count": null,
   "metadata": {},
   "outputs": [],
   "source": [
    "def milieu_chaine(chaine):\n",
    "    \"\"\"renvoie la chaîne sans la dernière ni la première lettre\"\"\"\n",
    "    "
   ]
  },
  {
   "cell_type": "markdown",
   "metadata": {},
   "source": [
    "> **Travail à faire** : Exécutez la cellule ci-dessous pour vérifier votre travail. Si une case rouge apparaît, c'est que votre fonction n'est pas bonne. Corrigez la fonction, puis exécutez à nouveau la cellule ci-dessous jusqu'à ne faire apparaître que des cases vertes."
   ]
  },
  {
   "cell_type": "code",
   "execution_count": null,
   "metadata": {},
   "outputs": [],
   "source": [
    "exo_milieu_chaine.correction(milieu_chaine)"
   ]
  },
  {
   "cell_type": "markdown",
   "metadata": {},
   "source": [
    "---\n",
    "On se propose de coder une fonction $debut\\_n\\_chaine()$ prenant *chaine*, une chaîne de caractères en argument, et renvoyant les n premiers éléments de la chaîne de caractères.\n",
    "\n",
    "> **Travail à faire** : Exécutez la cellule ci-dessous pour voir un exemple"
   ]
  },
  {
   "cell_type": "code",
   "execution_count": null,
   "metadata": {},
   "outputs": [],
   "source": [
    "exo_debut_n_chaine.example(2)"
   ]
  },
  {
   "cell_type": "markdown",
   "metadata": {},
   "source": [
    "> **Travail à faire** : complétez la fonction ci-dessous, puis exécutez la."
   ]
  },
  {
   "cell_type": "code",
   "execution_count": null,
   "metadata": {},
   "outputs": [],
   "source": [
    "def debut_n_chaine(chaine, n):\n",
    "    \"\"\"renvoie les n premiers éléments de la chaîne de caractères\"\"\"\n",
    "    "
   ]
  },
  {
   "cell_type": "markdown",
   "metadata": {},
   "source": [
    "> **Travail à faire** : Exécutez la cellule ci-dessous pour vérifier votre travail. Si une case rouge apparaît, c'est que votre fonction n'est pas bonne. Corrigez la fonction, puis exécutez à nouveau la cellule ci-dessous jusqu'à ne faire apparaître que des cases vertes."
   ]
  },
  {
   "cell_type": "code",
   "execution_count": null,
   "metadata": {},
   "outputs": [],
   "source": [
    "exo_debut_n_chaine.correction(debut_n_chaine)"
   ]
  },
  {
   "cell_type": "markdown",
   "metadata": {},
   "source": [
    "---\n",
    "On se propose de coder une fonction $fin\\_n\\_chaine()$ prenant *chaine*, une chaîne de caractères en argument, et renvoyant les n derniesr éléments de la chaîne de caractères.\n",
    "\n",
    "> **Travail à faire** : Exécutez la cellule ci-dessous pour voir un exemple"
   ]
  },
  {
   "cell_type": "code",
   "execution_count": null,
   "metadata": {},
   "outputs": [],
   "source": [
    "exo_fin_n_chaine.example(2)"
   ]
  },
  {
   "cell_type": "markdown",
   "metadata": {},
   "source": [
    "> **Travail à faire** : complétez la fonction ci-dessous, puis exécutez la."
   ]
  },
  {
   "cell_type": "code",
   "execution_count": null,
   "metadata": {},
   "outputs": [],
   "source": [
    "def fin_n_chaine(chaine, n):\n",
    "    \"\"\"renvoie les n derniers éléments de la chaîne de caractères\"\"\"\n",
    "    "
   ]
  },
  {
   "cell_type": "markdown",
   "metadata": {},
   "source": [
    "> **Travail à faire** : Exécutez la cellule ci-dessous pour vérifier votre travail. Si une case rouge apparaît, c'est que votre fonction n'est pas bonne. Corrigez la fonction, puis exécutez à nouveau la cellule ci-dessous jusqu'à ne faire apparaître que des cases vertes."
   ]
  },
  {
   "cell_type": "code",
   "execution_count": null,
   "metadata": {},
   "outputs": [],
   "source": [
    "exo_fin_n_chaine.correction(fin_n_chaine)"
   ]
  },
  {
   "cell_type": "markdown",
   "metadata": {},
   "source": [
    "---\n",
    "On se propose de coder une fonction $milieu\\_n\\_chaine()$ prenant *chaine*, une chaîne de caractères en argument, et renvoyant la chaîne de caractères sans les n1 premières ni les n2 dernières lettres.\n",
    "\n",
    "> **Travail à faire** : Exécutez la cellule ci-dessous pour voir un exemple"
   ]
  },
  {
   "cell_type": "code",
   "execution_count": null,
   "metadata": {},
   "outputs": [],
   "source": [
    "exo_milieu_n_chaine.example(2)"
   ]
  },
  {
   "cell_type": "markdown",
   "metadata": {},
   "source": [
    "> **Travail à faire** : complétez la fonction ci-dessous, puis exécutez la."
   ]
  },
  {
   "cell_type": "code",
   "execution_count": null,
   "metadata": {},
   "outputs": [],
   "source": [
    "def milieu_n_chaine(chaine, n1, n2):\n",
    "    \"\"\"renvoie la chaîne sans les n1 premiers caractères et les n2 derniers caractères\"\"\"\n",
    "    "
   ]
  },
  {
   "cell_type": "markdown",
   "metadata": {},
   "source": [
    "> **Travail à faire** : Exécutez la cellule ci-dessous pour vérifier votre travail. Si une case rouge apparaît, c'est que votre fonction n'est pas bonne. Corrigez la fonction, puis exécutez à nouveau la cellule ci-dessous jusqu'à ne faire apparaître que des cases vertes."
   ]
  },
  {
   "cell_type": "code",
   "execution_count": null,
   "metadata": {},
   "outputs": [],
   "source": [
    "exo_milieu_n_chaine.correction(milieu_n_chaine)"
   ]
  },
  {
   "cell_type": "markdown",
   "metadata": {},
   "source": [
    "---\n",
    "Enregistrez votre Notebook (voir image ci-dessous), puis déposez-le dans le casier de votre professeur\n",
    "![enregistrer](enregistrer.png)"
   ]
  },
  {
   "cell_type": "code",
   "execution_count": null,
   "metadata": {},
   "outputs": [],
   "source": []
  },
  {
   "cell_type": "code",
   "execution_count": null,
   "metadata": {},
   "outputs": [],
   "source": []
  },
  {
   "cell_type": "code",
   "execution_count": null,
   "metadata": {},
   "outputs": [],
   "source": []
  }
 ],
 "metadata": {
  "kernelspec": {
   "display_name": "Python 3",
   "language": "python",
   "name": "python3"
  },
  "language_info": {
   "codemirror_mode": {
    "name": "ipython",
    "version": 3
   },
   "file_extension": ".py",
   "mimetype": "text/x-python",
   "name": "python",
   "nbconvert_exporter": "python",
   "pygments_lexer": "ipython3",
   "version": "3.8.3"
  }
 },
 "nbformat": 4,
 "nbformat_minor": 4
}
