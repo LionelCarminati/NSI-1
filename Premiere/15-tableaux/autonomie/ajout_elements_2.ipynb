{
 "cells": [
  {
   "cell_type": "markdown",
   "metadata": {},
   "source": [
    "# <center>Ajout d'un élément en queue de tableau</center>"
   ]
  },
  {
   "cell_type": "markdown",
   "metadata": {},
   "source": [
    "Indiquez votre nom et votre prénom dans la cellule ci-dessous :"
   ]
  },
  {
   "cell_type": "code",
   "execution_count": null,
   "metadata": {},
   "outputs": [],
   "source": [
    "# Nom : "
   ]
  },
  {
   "cell_type": "markdown",
   "metadata": {},
   "source": [
    "---\n",
    ">**Travail à faire** : Exécutez la cellule ci-dessous pour importer les modules nécessaires"
   ]
  },
  {
   "cell_type": "code",
   "execution_count": null,
   "metadata": {},
   "outputs": [],
   "source": [
    "from solution import *\n",
    "from random import randint\n",
    "from doctest import run_docstring_examples\n",
    "MON_TABLEAU = [randint(0, 100) for i in range(10)]"
   ]
  },
  {
   "cell_type": "markdown",
   "metadata": {},
   "source": [
    "---"
   ]
  },
  {
   "cell_type": "markdown",
   "metadata": {},
   "source": [
    "On souhaite écrire une fonction *ajout_queue()* prenant *tab* (un tableau) et *elt* (l'élement à ajouter), et renvoyant un tableau permettant d'ajouter un élément à la fin du tableau.\n",
    "> **Travail à faire** : Exécutez la cellule ci-dessous pour voir un exemple d'exécution"
   ]
  },
  {
   "cell_type": "code",
   "execution_count": null,
   "metadata": {},
   "outputs": [],
   "source": [
    "MON_TABLEAU = exo_ajout_queue_example(MON_TABLEAU, -1)\n",
    "print(MON_TABLEAU)"
   ]
  },
  {
   "cell_type": "markdown",
   "metadata": {},
   "source": [
    "**On utilisera l'algorithme suivant :**\n",
    "\n",
    "1. initialiser un nouveau tableau contenant 1 élément de plus que *tab*\n",
    "2. réaliser un parcours par index pour copier le contenu de *tab* à la bonne position du nouveau tableau\n",
    "3. ajouter *elt* en première position du nouveau tableau\n",
    "> **Travail à faire** : complétez la fonction ci-dessous"
   ]
  },
  {
   "cell_type": "code",
   "execution_count": null,
   "metadata": {},
   "outputs": [],
   "source": [
    "def ajout_queue(tab, elt):\n",
    "    \"\"\"ajout d'un élément en dernière position d'un tableau\n",
    "    Entrées : tab (un tableau) et elt (l'élément à ajouter)\n",
    "    Sortie : new_tab : un tableau\n",
    "    Exemples :\n",
    "    >>> ajout_queue([], 1)\n",
    "    [1]\n",
    "    >>> ajout_queue([0], 1)\n",
    "    [0, 1]\n",
    "    >>> ajout_queue([0, 1], 2)\n",
    "    [0, 1, 2]\n",
    "    \"\"\"    \n",
    "    ##--Indiquez le code Python, puis cliquez sur Run--##\n",
    "    \n",
    "    return new_tab"
   ]
  },
  {
   "cell_type": "markdown",
   "metadata": {},
   "source": [
    "> **Travail à faire** : Vérifiez votre code en exécutant la cellule ci-dessous. \n",
    "\n",
    "Si vous avez réussi votre travail, tous les tests doivent renvoyer `ok`. Dans le cas contraire, corrigez votre travail, exécutez la cellule précédente puis à nouveau la prochaine."
   ]
  },
  {
   "cell_type": "code",
   "execution_count": null,
   "metadata": {},
   "outputs": [],
   "source": [
    "run_docstring_examples(ajout_queue, globals(), verbose = True)"
   ]
  },
  {
   "cell_type": "markdown",
   "metadata": {},
   "source": [
    "---\n",
    "On souhaite ajouter 'commencer' au tableau `t` en utilisant la fonction *ajout_queue()*. Indiquez dans la cellule ci-dessous la ligne de code qu'il faut exécuter."
   ]
  },
  {
   "cell_type": "code",
   "execution_count": null,
   "metadata": {},
   "outputs": [],
   "source": [
    "t = ['manger', 'chanter', 'dessiner', 'aspirer']\n",
    "##--Indiquez ci-dessous le code Python, puis cliquez sur Run--##\n"
   ]
  },
  {
   "cell_type": "code",
   "execution_count": null,
   "metadata": {},
   "outputs": [],
   "source": [
    "exo_ajout_queue_correction(t)"
   ]
  },
  {
   "cell_type": "code",
   "execution_count": null,
   "metadata": {},
   "outputs": [],
   "source": []
  }
 ],
 "metadata": {
  "kernelspec": {
   "display_name": "Python 3",
   "language": "python",
   "name": "python3"
  },
  "language_info": {
   "codemirror_mode": {
    "name": "ipython",
    "version": 3
   },
   "file_extension": ".py",
   "mimetype": "text/x-python",
   "name": "python",
   "nbconvert_exporter": "python",
   "pygments_lexer": "ipython3",
   "version": "3.8.3"
  }
 },
 "nbformat": 4,
 "nbformat_minor": 4
}
