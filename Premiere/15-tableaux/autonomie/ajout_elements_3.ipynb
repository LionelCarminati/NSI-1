{
 "cells": [
  {
   "cell_type": "markdown",
   "metadata": {},
   "source": [
    "# <center>Ajout d'un élément en milieu de tableau</center>"
   ]
  },
  {
   "cell_type": "markdown",
   "metadata": {},
   "source": [
    "Indiquez votre nom et votre prénom dans la cellule ci-dessous :"
   ]
  },
  {
   "cell_type": "code",
   "execution_count": null,
   "metadata": {},
   "outputs": [],
   "source": [
    "# Nom : "
   ]
  },
  {
   "cell_type": "markdown",
   "metadata": {},
   "source": [
    "---\n",
    ">**Travail à faire** : Exécutez la cellule ci-dessous pour importer les modules nécessaires"
   ]
  },
  {
   "cell_type": "code",
   "execution_count": null,
   "metadata": {},
   "outputs": [],
   "source": [
    "from solution import *\n",
    "from random import randint\n",
    "from doctest import run_docstring_examples\n",
    "MON_TABLEAU = [randint(0, 100) for i in range(10)]"
   ]
  },
  {
   "cell_type": "markdown",
   "metadata": {},
   "source": [
    "---"
   ]
  },
  {
   "cell_type": "markdown",
   "metadata": {},
   "source": [
    "On souhaite écrire une fonction *ajout_milieu()* prenant *tab* (un tableau), *elt* (l'élement à ajouter) et *pos* (l'indice de la position), et renvoyant un tableau permettant d'ajouter un élément à l'indice *pos* du tableau.\n",
    "> **Travail à faire** : Exécutez la cellule ci-dessous pour voir un exemple d'exécution"
   ]
  },
  {
   "cell_type": "code",
   "execution_count": null,
   "metadata": {},
   "outputs": [],
   "source": [
    "MON_TABLEAU = exo_ajout_milieu_example(MON_TABLEAU, -1, 5)\n",
    "print(MON_TABLEAU)"
   ]
  },
  {
   "cell_type": "markdown",
   "metadata": {},
   "source": [
    "**On utilisera l'algorithme suivant :**\n",
    "\n",
    "1. initialiser un nouveau tableau contenant 1 élément de plus que *tab*\n",
    "2. réaliser un parcours par index jusqu'à l'indice *pos* compris pour copier le contenu de *tab* à la bonne position du nouveau tableau\n",
    "3. ajouter *elt* à l'indice *pos* du nouveau tableau\n",
    "4. réaliser un parcours par index pour copier la fin du tableau dans le nouveau tableau\n",
    "\n",
    "> **Travail à faire** : complétez la fonction ci-dessous"
   ]
  },
  {
   "cell_type": "code",
   "execution_count": null,
   "metadata": {},
   "outputs": [],
   "source": [
    "def ajout_milieu(tab, elt, pos):\n",
    "    \"\"\"ajout d'un élément à l'indice pos d'un tableau\n",
    "    Entrées : tab (un tableau), elt (l'élément à ajouter) et pos (un entier)\n",
    "    Sortie : new_tab : un tableau\n",
    "    Exemples :\n",
    "    >>> ajout_milieu([0, 1], 5, 1)\n",
    "    [0, 5, 1]\n",
    "    >>> ajout_milieu([0, 1, 2], 5, 1)\n",
    "    [0, 5, 1, 2]\n",
    "    >>> ajout_milieu([0, 1, 2], 5, 2)\n",
    "    [0, 1, 5, 2]\n",
    "    \"\"\"    \n",
    "    ##--Indiquez le code Python, puis cliquez sur Run--##\n",
    "    \n",
    "    return new_tab"
   ]
  },
  {
   "cell_type": "markdown",
   "metadata": {},
   "source": [
    "> **Travail à faire** : Vérifiez votre code en exécutant la cellule ci-dessous. \n",
    "\n",
    "Si vous avez réussi votre travail, tous les tests doivent renvoyer `ok`. Dans le cas contraire, corrigez votre travail, exécutez la cellule précédente puis à nouveau la prochaine."
   ]
  },
  {
   "cell_type": "code",
   "execution_count": null,
   "metadata": {},
   "outputs": [],
   "source": [
    "run_docstring_examples(ajout_milieu, globals(), verbose = True)"
   ]
  },
  {
   "cell_type": "markdown",
   "metadata": {},
   "source": [
    "---\n",
    "On souhaite ajouter 'commencer' au tableau `t`, juste après `chanter` en utilisant la fonction *ajout_milieu()*. Indiquez dans la cellule ci-dessous la ligne de code qu'il faut exécuter."
   ]
  },
  {
   "cell_type": "code",
   "execution_count": null,
   "metadata": {},
   "outputs": [],
   "source": [
    "t = ['manger', 'chanter', 'dessiner', 'aspirer']\n",
    "##--Indiquez ci-dessous le code Python, puis cliquez sur Run--##\n"
   ]
  },
  {
   "cell_type": "code",
   "execution_count": null,
   "metadata": {},
   "outputs": [],
   "source": [
    "exo_ajout_milieu_correction(t)"
   ]
  },
  {
   "cell_type": "code",
   "execution_count": null,
   "metadata": {},
   "outputs": [],
   "source": []
  }
 ],
 "metadata": {
  "kernelspec": {
   "display_name": "Python 3",
   "language": "python",
   "name": "python3"
  },
  "language_info": {
   "codemirror_mode": {
    "name": "ipython",
    "version": 3
   },
   "file_extension": ".py",
   "mimetype": "text/x-python",
   "name": "python",
   "nbconvert_exporter": "python",
   "pygments_lexer": "ipython3",
   "version": "3.8.3"
  }
 },
 "nbformat": 4,
 "nbformat_minor": 4
}
