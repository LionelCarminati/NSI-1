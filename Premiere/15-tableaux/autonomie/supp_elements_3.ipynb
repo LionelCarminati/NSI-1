{
 "cells": [
  {
   "cell_type": "markdown",
   "metadata": {},
   "source": [
    "# <center>Suppression d'un élément en milieu de tableau</center>"
   ]
  },
  {
   "cell_type": "markdown",
   "metadata": {},
   "source": [
    "Indiquez votre nom et votre prénom dans la cellule ci-dessous :"
   ]
  },
  {
   "cell_type": "code",
   "execution_count": null,
   "metadata": {},
   "outputs": [],
   "source": [
    "# Nom : "
   ]
  },
  {
   "cell_type": "markdown",
   "metadata": {},
   "source": [
    "---\n",
    ">**Travail à faire** : Exécutez la cellule ci-dessous pour importer les modules nécessaires"
   ]
  },
  {
   "cell_type": "code",
   "execution_count": null,
   "metadata": {},
   "outputs": [],
   "source": [
    "from solution import *\n",
    "from random import randint\n",
    "from doctest import run_docstring_examples\n",
    "MON_TABLEAU = [randint(0, 100) for i in range(10)]"
   ]
  },
  {
   "cell_type": "markdown",
   "metadata": {},
   "source": [
    "---"
   ]
  },
  {
   "cell_type": "markdown",
   "metadata": {},
   "source": [
    "On souhaite écrire une fonction *supp_milieu()* prenant *tab* (un tableau) et *pos* (un entier) en argument, et renvoyant un tableau permettant contenant tous les éléments SAUF celui d'indice *pos*.\n",
    "> **Travail à faire** : Exécutez la cellule ci-dessous pour voir un exemple d'exécution"
   ]
  },
  {
   "cell_type": "code",
   "execution_count": null,
   "metadata": {},
   "outputs": [],
   "source": [
    "print(MON_TABLEAU)\n",
    "MON_TABLEAU = exo_supp_milieu_example(MON_TABLEAU, 5)\n",
    "print(MON_TABLEAU)"
   ]
  },
  {
   "cell_type": "markdown",
   "metadata": {},
   "source": [
    "**On utilisera l'algorithme suivant :**\n",
    "\n",
    "1. initialiser un nouveau tableau contenant 1 élément de moins que *tab*\n",
    "2. réaliser un parcours par index jusqu'à *pos* pour copier le contenu de *tab* dans le nouveau tableau\n",
    "3. réaliser un parcours par index pour copier le reste de *tab* dans le nouveau tableau\n",
    "> **Travail à faire** : complétez la fonction ci-dessous"
   ]
  },
  {
   "cell_type": "code",
   "execution_count": null,
   "metadata": {},
   "outputs": [],
   "source": [
    "def supp_milieu(tab, pos):\n",
    "    \"\"\"suppression de l'élément d'indice pos d'un tableau\n",
    "    Entrées : tab (un tableau), pos (un entier)\n",
    "    Sortie : new_tab : un tableau\n",
    "    Exemples :\n",
    "    >>> supp_milieu([0], 0)\n",
    "    []\n",
    "    >>> supp_milieu([0, 1], 0)\n",
    "    [1]\n",
    "    >>> supp_milieu([0, 1], 1)\n",
    "    [0]\n",
    "    >>> supp_milieu([0, 1, 2], 1)\n",
    "    [0, 2]\n",
    "    \"\"\"    \n",
    "    ##--Indiquez le code Python, puis cliquez sur Run--##\n",
    "    \n",
    "    return new_tab"
   ]
  },
  {
   "cell_type": "markdown",
   "metadata": {},
   "source": [
    "> **Travail à faire** : Vérifiez votre code en exécutant la cellule ci-dessous. \n",
    "\n",
    "Si vous avez réussi votre travail, tous les tests doivent renvoyer `ok`. Dans le cas contraire, corrigez votre travail, exécutez la cellule précédente puis à nouveau la prochaine."
   ]
  },
  {
   "cell_type": "code",
   "execution_count": null,
   "metadata": {},
   "outputs": [],
   "source": [
    "run_docstring_examples(supp_milieu, globals(), verbose = True)"
   ]
  },
  {
   "cell_type": "markdown",
   "metadata": {},
   "source": [
    "---\n",
    "On souhaite supprimer 'chanter' au tableau `t` en utilisant la fonction *supp_milieu()*. Indiquez dans la cellule ci-dessous la ligne de code qu'il faut exécuter."
   ]
  },
  {
   "cell_type": "code",
   "execution_count": null,
   "metadata": {},
   "outputs": [],
   "source": [
    "t = ['manger', 'chanter', 'dessiner', 'aspirer']\n",
    "##--Indiquez ci-dessous le code Python, puis cliquez sur Run--##\n"
   ]
  },
  {
   "cell_type": "code",
   "execution_count": null,
   "metadata": {},
   "outputs": [],
   "source": [
    "exo_supp_milieu_correction(t)"
   ]
  },
  {
   "cell_type": "code",
   "execution_count": null,
   "metadata": {},
   "outputs": [],
   "source": []
  }
 ],
 "metadata": {
  "kernelspec": {
   "display_name": "Python 3",
   "language": "python",
   "name": "python3"
  },
  "language_info": {
   "codemirror_mode": {
    "name": "ipython",
    "version": 3
   },
   "file_extension": ".py",
   "mimetype": "text/x-python",
   "name": "python",
   "nbconvert_exporter": "python",
   "pygments_lexer": "ipython3",
   "version": "3.8.3"
  }
 },
 "nbformat": 4,
 "nbformat_minor": 4
}
