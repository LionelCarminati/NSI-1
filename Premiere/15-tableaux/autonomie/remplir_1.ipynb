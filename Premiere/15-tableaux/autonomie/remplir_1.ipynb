{
 "cells": [
  {
   "cell_type": "markdown",
   "metadata": {},
   "source": [
    "# <center>Remplir un tableau</center>"
   ]
  },
  {
   "cell_type": "markdown",
   "metadata": {},
   "source": [
    "Indiquez votre nom et votre prénom dans la cellule ci-dessous :"
   ]
  },
  {
   "cell_type": "code",
   "execution_count": null,
   "metadata": {},
   "outputs": [],
   "source": [
    "# Nom : "
   ]
  },
  {
   "cell_type": "markdown",
   "metadata": {},
   "source": [
    "---\n",
    ">**Travail à faire** : Exécutez la cellule ci-dessous pour importer les modules nécessaires"
   ]
  },
  {
   "cell_type": "code",
   "execution_count": null,
   "metadata": {},
   "outputs": [],
   "source": [
    "from solution import *\n",
    "from random import randint\n",
    "from doctest import run_docstring_examples\n",
    "MON_TABLEAU = [randint(0, 100) for i in range(10)]"
   ]
  },
  {
   "cell_type": "markdown",
   "metadata": {},
   "source": [
    "---"
   ]
  },
  {
   "cell_type": "markdown",
   "metadata": {},
   "source": [
    "On souhaite écrire une fonction *remplir_1()* prenant *tab* (un tableau) et *elt* en argument, et renvoyant un tableau dont toutes les valeurs sont *elt*\n",
    "> **Travail à faire** : Exécutez la cellule ci-dessous pour voir un exemple d'exécution"
   ]
  },
  {
   "cell_type": "code",
   "execution_count": null,
   "metadata": {},
   "outputs": [],
   "source": [
    "MON_TABLEAU = exo_remplir_1_example(MON_TABLEAU, 5)\n",
    "print(MON_TABLEAU)"
   ]
  },
  {
   "cell_type": "markdown",
   "metadata": {},
   "source": [
    "**On utilisera l'algorithme suivant :**\n",
    "\n",
    "1. initialiser un nouveau tableau contenant autant d'éléments que *tab*\n",
    "2. réaliser un parcours par index pour insérer *elt* dans le tableau\n",
    "> **Travail à faire** : complétez la fonction ci-dessous"
   ]
  },
  {
   "cell_type": "code",
   "execution_count": null,
   "metadata": {},
   "outputs": [],
   "source": [
    "def remplir_1(tab, elt):\n",
    "    \"\"\"renvoie un tableau avec uniquement elt\n",
    "    Entrées : tab (un tableau), elt \n",
    "    Sortie : new_tab : un tableau\n",
    "    Exemples :\n",
    "    >>> remplir_1([0], 1)\n",
    "    [1]\n",
    "    >>> remplir_1([0, 0], 1)\n",
    "    [1, 1]\n",
    "    >>> remplir_1([0, 0], 'a')\n",
    "    ['a', 'a']\n",
    "    >>> remplir_1([0, 0, 0], 1)\n",
    "    [1, 1, 1]\n",
    "    \"\"\"    \n",
    "    ##--Indiquez le code Python, puis cliquez sur Run--##\n",
    "    \n",
    "    \n",
    "    return new_tab"
   ]
  },
  {
   "cell_type": "markdown",
   "metadata": {},
   "source": [
    "> **Travail à faire** : Vérifiez votre code en exécutant la cellule ci-dessous. \n",
    "\n",
    "Si vous avez réussi votre travail, tous les tests doivent renvoyer `ok`. Dans le cas contraire, corrigez votre travail, exécutez la cellule précédente puis à nouveau la prochaine."
   ]
  },
  {
   "cell_type": "code",
   "execution_count": null,
   "metadata": {},
   "outputs": [],
   "source": [
    "run_docstring_examples(remplir_1, globals(), verbose = True)"
   ]
  },
  {
   "cell_type": "markdown",
   "metadata": {},
   "source": [
    "---\n",
    "On souhaite, en utilisant la fonction *remplir_1()*, que `t` ne contiennt que la valeur 'toto'. Indiquez dans la cellule ci-dessous la ligne de code qu'il faut exécuter."
   ]
  },
  {
   "cell_type": "code",
   "execution_count": null,
   "metadata": {},
   "outputs": [],
   "source": [
    "t = [0, 0, 0, 0]\n",
    "##--Indiquez ci-dessous le code Python, puis cliquez sur Run--##"
   ]
  },
  {
   "cell_type": "code",
   "execution_count": null,
   "metadata": {},
   "outputs": [],
   "source": [
    "exo_remplir_1_correction(t)"
   ]
  },
  {
   "cell_type": "code",
   "execution_count": null,
   "metadata": {},
   "outputs": [],
   "source": []
  }
 ],
 "metadata": {
  "kernelspec": {
   "display_name": "Python 3",
   "language": "python",
   "name": "python3"
  },
  "language_info": {
   "codemirror_mode": {
    "name": "ipython",
    "version": 3
   },
   "file_extension": ".py",
   "mimetype": "text/x-python",
   "name": "python",
   "nbconvert_exporter": "python",
   "pygments_lexer": "ipython3",
   "version": "3.8.3"
  }
 },
 "nbformat": 4,
 "nbformat_minor": 4
}
