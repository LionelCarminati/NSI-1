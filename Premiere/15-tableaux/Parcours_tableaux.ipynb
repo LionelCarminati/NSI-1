{
 "cells": [
  {
   "cell_type": "markdown",
   "metadata": {},
   "source": [
    "# <center>Parcours dans un tableau</center>"
   ]
  },
  {
   "cell_type": "markdown",
   "metadata": {},
   "source": [
    "Indiquez votre nom et votre prénom dans la cellule ci-dessous :"
   ]
  },
  {
   "cell_type": "code",
   "execution_count": null,
   "metadata": {},
   "outputs": [],
   "source": [
    "# Nom : "
   ]
  },
  {
   "cell_type": "markdown",
   "metadata": {},
   "source": [
    "---\n",
    ">**Travail à faire** : Exécutez la cellule ci-dessous pour importer les modules nécessaires"
   ]
  },
  {
   "cell_type": "code",
   "execution_count": null,
   "metadata": {},
   "outputs": [],
   "source": [
    "from random import randint\n",
    "from solution import *"
   ]
  },
  {
   "cell_type": "markdown",
   "metadata": {},
   "source": [
    "---\n",
    "## 1. Ajout d'un élément à un tableau"
   ]
  },
  {
   "cell_type": "markdown",
   "metadata": {},
   "source": [
    "### 1.1. Ajout d'un élément en tête de tableau"
   ]
  },
  {
   "cell_type": "markdown",
   "metadata": {},
   "source": [
    "On souhaite écrire une fonction *ajout_tete()* prenant *t* (un tableau) et *element* en argument, et renvoyant le même tableau avec *element* ajouté en tête de tableau.\n",
    "> **Travail à faire** : Exécutez la cellule ci-dessous pour voir un exemple d'exécution"
   ]
  },
  {
   "cell_type": "code",
   "execution_count": null,
   "metadata": {},
   "outputs": [],
   "source": [
    "exo_ajout_tete.example(1)"
   ]
  },
  {
   "cell_type": "markdown",
   "metadata": {},
   "source": [
    "**Indice** : on procède en 3 étapes : \n",
    "1. On initialise un tableau vide contenant un élément de plus que *t*\n",
    "2. On réalise un parcours par index de *t*\n",
    "3. On ajoute le i-ème élément de t à la (i+1)-ème position du nouveau tableau\n",
    "\n",
    "L'algorithme suivant résume la façon de procéder\n",
    "\n",
    "![algorithme](algo-1.png)"
   ]
  },
  {
   "cell_type": "markdown",
   "metadata": {},
   "source": [
    "> **Travail à faire** : complétez la fonction *ajout_tete()* ci-dessous"
   ]
  },
  {
   "cell_type": "code",
   "execution_count": null,
   "metadata": {},
   "outputs": [],
   "source": [
    "def ajout_tete(t, element):\n",
    "    \"\"\"renvoie un tableau contenant element ajouté en tete de t\n",
    "    Entrées : tab (un tableau), element\n",
    "    Sortie : new_tab (un tableau)\n",
    "    \"\"\"    \n",
    "    ##--Indiquez le code Python, puis cliquez sur Run--##\n",
    "    "
   ]
  },
  {
   "cell_type": "markdown",
   "metadata": {},
   "source": [
    "> **Travail à faire** : Vérifiez votre code en exécutant la cellule ci-dessous. \n",
    "\n",
    "Si une case rouge apparaît, c'est que le code entré à la cellule précédente est faux. Corrigez votre travail, exécutez la cellule précédente puis à nouveau la prochaine."
   ]
  },
  {
   "cell_type": "code",
   "execution_count": null,
   "metadata": {},
   "outputs": [],
   "source": [
    "exo_ajout_tete.correction(ajout_tete)"
   ]
  },
  {
   "cell_type": "markdown",
   "metadata": {},
   "source": [
    "On souhaite ajouter 'bot' au tableau `t` en utilisant la fonction *ajout_tete()*. Indiquez dans la cellule ci-dessous la ligne de code qu'il faut exécuter."
   ]
  },
  {
   "cell_type": "code",
   "execution_count": null,
   "metadata": {},
   "outputs": [],
   "source": [
    "t = ['foo', 'bier', 'baz']\n",
    "##--Indiquez ci-dessous le code Python, puis cliquez sur Run--##\n"
   ]
  },
  {
   "cell_type": "markdown",
   "metadata": {},
   "source": [
    "### 1.2. Ajout d'un élément en queue de tableau"
   ]
  },
  {
   "cell_type": "markdown",
   "metadata": {},
   "source": [
    "On souhaite écrire une fonction *ajout_queue()* prenant *t* (un tableau) en argument, et renvoyant un tableau avec les éléments inversés.\n",
    "> **Travail à faire** : Exécutez la cellule ci-dessous pour voir un exemple d'exécution"
   ]
  },
  {
   "cell_type": "code",
   "execution_count": null,
   "metadata": {},
   "outputs": [],
   "source": [
    "exo_ajout_queue.example(1)"
   ]
  },
  {
   "cell_type": "markdown",
   "metadata": {},
   "source": [
    "> **Travail à faire** : complétez la fonction *ajout_queue()* ci-dessous"
   ]
  },
  {
   "cell_type": "code",
   "execution_count": null,
   "metadata": {},
   "outputs": [],
   "source": [
    "def ajout_queue(t, element):\n",
    "    \"\"\"renvoie un tableau contenant element ajouté en queue de t\n",
    "    Entrées : tab (un tableau), element\n",
    "    Sortie : new_tab (un tableau)\n",
    "    \"\"\"    \n",
    "    ##--Indiquez le code Python, puis cliquez sur Run--##\n",
    "    "
   ]
  },
  {
   "cell_type": "markdown",
   "metadata": {},
   "source": [
    "> **Travail à faire** : Vérifiez votre code en exécutant la cellule ci-dessous. \n",
    "\n",
    "Si une case rouge apparaît, c'est que le code entré à la cellule précédente est faux. Corrigez votre travail, exécutez la cellule précédente puis à nouveau la prochaine."
   ]
  },
  {
   "cell_type": "code",
   "execution_count": null,
   "metadata": {},
   "outputs": [],
   "source": [
    "exo_ajout_queue.correction(ajout_queue)"
   ]
  },
  {
   "cell_type": "markdown",
   "metadata": {},
   "source": [
    "On souhaite ajouter 'bot' au tableau `t` en utilisant la fonction *ajout_queue()*. Indiquez dans la cellule ci-dessous la ligne de code qu'il faut exécuter."
   ]
  },
  {
   "cell_type": "code",
   "execution_count": null,
   "metadata": {},
   "outputs": [],
   "source": [
    "t = ['foo', 'bier', 'baz']\n",
    "##--Indiquez ci-dessous le code Python, puis cliquez sur Run--##\n"
   ]
  },
  {
   "cell_type": "markdown",
   "metadata": {},
   "source": [
    "## 2. Fonctions plus élaborées"
   ]
  },
  {
   "cell_type": "markdown",
   "metadata": {},
   "source": [
    "### 2.1. Le tirage aléatoire\n",
    "\n",
    "Le fonction *randint()* du module *random* permet de générer un entier compris entre deux bornes passées en argument.\n",
    "\n",
    "> **Travail à faire** : Exécutez la cellule ci-dessous pour lire la documentation de la fonction *randint()*"
   ]
  },
  {
   "cell_type": "code",
   "execution_count": null,
   "metadata": {},
   "outputs": [],
   "source": [
    "help(randint)"
   ]
  },
  {
   "cell_type": "markdown",
   "metadata": {},
   "source": [
    "> **Travail à faire** : Exécutez la cellule ci-dessous pour un exemple d'exécution de la fonction *randint()*"
   ]
  },
  {
   "cell_type": "code",
   "execution_count": null,
   "metadata": {},
   "outputs": [],
   "source": [
    "randint(0, 50)"
   ]
  },
  {
   "cell_type": "markdown",
   "metadata": {},
   "source": [
    "> **Travail à faire** : en utilisant la fonction randint(), indiquez dans la cellule ci-dessous l'instruction Python renvoyant un entier compris entre 1 et 8 inclus."
   ]
  },
  {
   "cell_type": "code",
   "execution_count": null,
   "metadata": {},
   "outputs": [],
   "source": [
    "##--Indiquez le code Python, puis cliquez sur Run--##\n"
   ]
  },
  {
   "cell_type": "markdown",
   "metadata": {},
   "source": [
    "### 2.2. tableau aléatoire"
   ]
  },
  {
   "cell_type": "markdown",
   "metadata": {},
   "source": [
    "On souhaite écrire une fonction *tableau_aleatoire()* prenant *n, a* et *b* (des entiers) en argument, et renvoyant un tableau de taille *n* dont les éléments sont tirés au hasard entre *a* et *b*.\n",
    "> **Travail à faire** : Exécutez la cellule ci-dessous pour voir un exemple d'exécution"
   ]
  },
  {
   "cell_type": "code",
   "execution_count": null,
   "metadata": {},
   "outputs": [],
   "source": [
    "exo_aleatoire.example(2)"
   ]
  },
  {
   "cell_type": "markdown",
   "metadata": {},
   "source": [
    "> **Travail à faire** : complétez la fonction *tableau_aleatoire()* ci-dessous"
   ]
  },
  {
   "cell_type": "code",
   "execution_count": null,
   "metadata": {},
   "outputs": [],
   "source": [
    "def tableau_aleatoire(n, a, b):\n",
    "    \"\"\"renvoie un tableau de n éléments, dont les éléments sont tirés aléatoirement entre a et b\n",
    "    Entrées : n, a, b (des entiers)\n",
    "    Sortie : tab (un tableau)\n",
    "    \"\"\"  \n",
    "    ##--Indiquez le code Python, puis cliquez sur Run--##\n",
    "    "
   ]
  },
  {
   "cell_type": "markdown",
   "metadata": {},
   "source": [
    "> **Travail à faire** : Vérifiez votre code en exécutant la cellule ci-dessous. \n",
    "\n",
    "Si une case rouge apparaît, c'est que le code entré à la cellule précédente est faux. Corrigez votre travail, exécutez la cellule précédente puis à nouveau la prochaine."
   ]
  },
  {
   "cell_type": "code",
   "execution_count": null,
   "metadata": {},
   "outputs": [],
   "source": [
    "exo_aleatoire_correction(tableau_aleatoire)"
   ]
  },
  {
   "cell_type": "markdown",
   "metadata": {},
   "source": [
    "On souhaite ajouter créer un tableau ***toto*** contenant 25 chiffres tirés aléatoirement entre 0 et 100 en utilisant la fonction *tableau_aleatoire()*. Indiquez dans la cellule ci-dessous la ligne de code qu'il faut exécuter."
   ]
  },
  {
   "cell_type": "code",
   "execution_count": null,
   "metadata": {},
   "outputs": [],
   "source": [
    "##--Indiquez ci-dessous le code Python, puis cliquez sur Run--##\n"
   ]
  },
  {
   "cell_type": "markdown",
   "metadata": {},
   "source": [
    "### 2.3. tableau croissant"
   ]
  },
  {
   "cell_type": "markdown",
   "metadata": {},
   "source": [
    "On souhaite écrire une fonction *tableau_croissant()* prenant *n, a* et *b* (des entiers) en argument, et renvoyant un tableau de taille *n* dont les éléments sont tirés au hasard, et classés par ordre croissant. \n",
    "> **Travail à faire** : Exécutez la cellule ci-dessous pour voir un exemple d'exécution"
   ]
  },
  {
   "cell_type": "code",
   "execution_count": null,
   "metadata": {},
   "outputs": [],
   "source": [
    "exo_croissant.example(2)"
   ]
  },
  {
   "cell_type": "markdown",
   "metadata": {},
   "source": [
    "Une solution **simple** de réaliser ce tableau consiste à remplir le tableau de gauche à droite en ajoutant à chaque fois un entier positif ou nul tiré aléatoirement à l'élément précédent."
   ]
  },
  {
   "cell_type": "markdown",
   "metadata": {},
   "source": [
    "> **Travail à faire** : complétez la fonction *tableau_croissant()* ci-dessous"
   ]
  },
  {
   "cell_type": "code",
   "execution_count": null,
   "metadata": {},
   "outputs": [],
   "source": [
    "def tableau_croissant(n, a, b):\n",
    "    \"\"\"renvoie un tableau de n éléments, dont les éléments sont croissants\n",
    "    Entrées : n, a, b (des entiers)\n",
    "    Sortie : tab (un tableau)\n",
    "    \"\"\"    \n",
    "    ##--Indiquez le code Python, puis cliquez sur Run--##\n",
    "    "
   ]
  },
  {
   "cell_type": "markdown",
   "metadata": {},
   "source": [
    "> **Travail à faire** : Vérifiez votre code en exécutant la cellule ci-dessous. \n",
    "\n",
    "Si une case rouge apparaît, c'est que le code entré à la cellule précédente est faux. Corrigez votre travail, exécutez la cellule précédente puis à nouveau la prochaine."
   ]
  },
  {
   "cell_type": "code",
   "execution_count": null,
   "metadata": {},
   "outputs": [],
   "source": [
    "exo_croissant_correction(tableau_croissant)"
   ]
  },
  {
   "cell_type": "markdown",
   "metadata": {},
   "source": [
    "On souhaite ajouter créer un tableau ***tata*** contenant 25 chiffres tirés aléatoirement entre 0 et 100 en utilisant la fonction *tableau_croissant()*. Indiquez dans la cellule ci-dessous la ligne de code qu'il faut exécuter."
   ]
  },
  {
   "cell_type": "code",
   "execution_count": null,
   "metadata": {},
   "outputs": [],
   "source": [
    "##--Indiquez ci-dessous le code Python, puis cliquez sur Run--##\n"
   ]
  },
  {
   "cell_type": "markdown",
   "metadata": {},
   "source": [
    "### 2.4. tableau miroir"
   ]
  },
  {
   "cell_type": "markdown",
   "metadata": {},
   "source": [
    "On souhaite écrire une fonction *miroir()* prenant *t* (un tableau) en argument, et renvoyant le même tableau davec les éléments à l'envers.\n",
    "> **Travail à faire** : Exécutez la cellule ci-dessous pour voir un exemple d'exécution"
   ]
  },
  {
   "cell_type": "code",
   "execution_count": null,
   "metadata": {},
   "outputs": [],
   "source": [
    "exo_miroir.example(2)"
   ]
  },
  {
   "cell_type": "markdown",
   "metadata": {},
   "source": [
    "> **Travail à faire** : complétez la fonction *tableau_croissant()* ci-dessous"
   ]
  },
  {
   "cell_type": "code",
   "execution_count": null,
   "metadata": {},
   "outputs": [],
   "source": [
    "def miroir(t):\n",
    "    \"\"\"renvoie un tableau dont les éléments sont inversés par rapport à tab - le premier devient le dernier\n",
    "    Entrées : tab (un tableau)\n",
    "    Sortie : new_tab (un tableau)\n",
    "    \"\"\"  \n",
    "    ##--Indiquez le code Python, puis cliquez sur Run--##\n"
   ]
  },
  {
   "cell_type": "markdown",
   "metadata": {},
   "source": [
    "> **Travail à faire** : Vérifiez votre code en exécutant la cellule ci-dessous. \n",
    "\n",
    "Si une case rouge apparaît, c'est que le code entré à la cellule précédente est faux. Corrigez votre travail, exécutez la cellule précédente puis à nouveau la prochaine."
   ]
  },
  {
   "cell_type": "code",
   "execution_count": null,
   "metadata": {},
   "outputs": [],
   "source": [
    "exo_miroir.correction(miroir)"
   ]
  },
  {
   "cell_type": "markdown",
   "metadata": {},
   "source": [
    "On souhaite ajouter créer un tableau ***mama*** contenant les mêmes éléments que le tableau ***t*** en utilisant la fonction *miroir()*. Indiquez dans la cellule ci-dessous la ligne de code qu'il faut exécuter."
   ]
  },
  {
   "cell_type": "code",
   "execution_count": null,
   "metadata": {},
   "outputs": [],
   "source": [
    "t = ['foo', 'bier', 'baz']\n",
    "##--Indiquez ci-dessous le code Python, puis cliquez sur Run--##\n"
   ]
  },
  {
   "cell_type": "markdown",
   "metadata": {},
   "source": [
    "---\n",
    "Enregistrez votre Notebook (voir image ci-dessous), puis déposez-le dans le casier de votre professeur.\n",
    "\n",
    "![enregistrer](enregistrer.png)"
   ]
  }
 ],
 "metadata": {
  "kernelspec": {
   "display_name": "Python 3",
   "language": "python",
   "name": "python3"
  },
  "language_info": {
   "codemirror_mode": {
    "name": "ipython",
    "version": 3
   },
   "file_extension": ".py",
   "mimetype": "text/x-python",
   "name": "python",
   "nbconvert_exporter": "python",
   "pygments_lexer": "ipython3",
   "version": "3.8.3"
  }
 },
 "nbformat": 4,
 "nbformat_minor": 4
}
