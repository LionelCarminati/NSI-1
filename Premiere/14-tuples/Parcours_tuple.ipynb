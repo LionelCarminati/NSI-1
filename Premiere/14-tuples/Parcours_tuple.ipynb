{
 "cells": [
  {
   "cell_type": "markdown",
   "metadata": {},
   "source": [
    "# <center>Les tuple - parcours par index</center>"
   ]
  },
  {
   "cell_type": "markdown",
   "metadata": {},
   "source": [
    "Indiquez votre nom et votre prénom dans la cellule ci-dessous :"
   ]
  },
  {
   "cell_type": "code",
   "execution_count": null,
   "metadata": {},
   "outputs": [],
   "source": [
    "# Nom : "
   ]
  },
  {
   "cell_type": "markdown",
   "metadata": {},
   "source": [
    "---\n",
    ">**Travail à faire** : Exécutez la cellule ci-dessous pour importer les modules nécessaires"
   ]
  },
  {
   "cell_type": "code",
   "execution_count": null,
   "metadata": {},
   "outputs": [],
   "source": [
    "from solution import *"
   ]
  },
  {
   "cell_type": "markdown",
   "metadata": {},
   "source": [
    "---\n",
    "## 1. Retour sur les tuple\n",
    "\n",
    "### 1.1. Généralités\n",
    "\n",
    "Un tuple est une collection d'éléments placés entre parenthèses. Chaque élément est séparé des autres par une virgule.\n",
    "> **Travail à faire** : Exécutez la cellule ci-dessous pour initialiser le tuple"
   ]
  },
  {
   "cell_type": "code",
   "execution_count": null,
   "metadata": {},
   "outputs": [],
   "source": [
    "t = ('foo', 'bier', 'baz', 7, ('bar', 'bot'), 29)"
   ]
  },
  {
   "cell_type": "markdown",
   "metadata": {},
   "source": [
    "L'instruction `len()` permet de connaître la longueur (le nombre d'éléments) d'un tuple.\n",
    "> **Travail à faire** : Exécutez la cellule ci-dessous pour connaître la longueur d'un tuple"
   ]
  },
  {
   "cell_type": "code",
   "execution_count": null,
   "metadata": {},
   "outputs": [],
   "source": [
    "len(t)"
   ]
  },
  {
   "cell_type": "markdown",
   "metadata": {},
   "source": [
    "Les n éléments d'un tuple sont indexés par les 0, 1, 2, ..., n-1. On accède à l'élément d'indice n par l'instruction :\n",
    "```python\n",
    "tuple[n]\n",
    "```\n",
    "> **Travail à faire** : Exécutez la cellule ci-dessous pour afficher le premier élément du tuple"
   ]
  },
  {
   "cell_type": "code",
   "execution_count": null,
   "metadata": {},
   "outputs": [],
   "source": [
    "t[0]"
   ]
  },
  {
   "cell_type": "markdown",
   "metadata": {},
   "source": [
    "> **Travail à faire** : Indiquez dans la cellule ci-dessous, l'instruction permettant d'afficher `'bier'`"
   ]
  },
  {
   "cell_type": "code",
   "execution_count": null,
   "metadata": {},
   "outputs": [],
   "source": [
    "##--Indiquez le code Python, puis cliquez sur Run--##\n"
   ]
  },
  {
   "cell_type": "markdown",
   "metadata": {},
   "source": [
    "> **Travail à faire** : Indiquez dans la cellule ci-dessous, l'instruction permettant d'afficher `('bar', 'bot')`"
   ]
  },
  {
   "cell_type": "code",
   "execution_count": null,
   "metadata": {},
   "outputs": [],
   "source": [
    "##--Indiquez le code Python, puis cliquez sur Run--##\n"
   ]
  },
  {
   "cell_type": "markdown",
   "metadata": {},
   "source": [
    "> **Travail à faire** : Indiquez dans la cellule ci-dessous, l'instruction permettant d'afficher `'bar'`"
   ]
  },
  {
   "cell_type": "code",
   "execution_count": null,
   "metadata": {},
   "outputs": [],
   "source": [
    "##--Indiquez le code Python, puis cliquez sur Run--##\n"
   ]
  },
  {
   "cell_type": "markdown",
   "metadata": {},
   "source": [
    "### 1.2. Non-mutabilité d'un tuple\n",
    "\n",
    "Un tuple est **non-mutable**, c'est à dire qu'on ne peut pas modifier directement l'un de ses éléments. L'instruction :\n",
    "```python\n",
    "tuple[i] = valeur\n",
    "```\n",
    "ne permet pas d'affecter `valeur` à la position *i* du tuple. Cette instruction renvoie une erreur.\n",
    "> **Travail à faire** : Exécutez la cellule ci-dessous pour modifier le tuple *t*"
   ]
  },
  {
   "cell_type": "code",
   "execution_count": null,
   "metadata": {},
   "outputs": [],
   "source": [
    "t[0] = 'toto'"
   ]
  },
  {
   "cell_type": "markdown",
   "metadata": {},
   "source": [
    "De même, on ne peut pas ajouter directement à élément à un tuple existant.\n",
    "\n",
    "Par exemple, le tuple *t* contient 6 éléments, indexés de 0 à 5. Le dernier élément est `29`.\n",
    "> **Travail à faire** : Exécutez la cellule ci-dessous."
   ]
  },
  {
   "cell_type": "code",
   "execution_count": null,
   "metadata": {},
   "outputs": [],
   "source": [
    "len(t)"
   ]
  },
  {
   "cell_type": "code",
   "execution_count": null,
   "metadata": {},
   "outputs": [],
   "source": [
    "t[5]"
   ]
  },
  {
   "cell_type": "markdown",
   "metadata": {},
   "source": [
    "On ne peut pas ajouter un élément en position 6 par l'instruction \n",
    "```python\n",
    "t[6]\n",
    "```"
   ]
  },
  {
   "cell_type": "code",
   "execution_count": null,
   "metadata": {},
   "outputs": [],
   "source": [
    "t[6] = 'Nono'"
   ]
  },
  {
   "cell_type": "markdown",
   "metadata": {},
   "source": [
    "### 1.3. Contournement du problème\n",
    "\n",
    "Une solution pour contourner ce problème consiste à utiliser la concaténation. Le résultat d'une concaténation est un nouveau tuple.\n",
    "> **Travail à faire** : Exécutez la cellule ci-dessous illustrant la concaténation."
   ]
  },
  {
   "cell_type": "code",
   "execution_count": null,
   "metadata": {},
   "outputs": [],
   "source": [
    "(1, 'toto') + (2, 'tata')"
   ]
  },
  {
   "cell_type": "markdown",
   "metadata": {},
   "source": [
    "**Attention** : Un tuple contenant un seul élément doit **impérativement** contenir une virgule.\n",
    "```python\n",
    "(element,)\n",
    "```\n",
    "> **Travail à faire** : Exécutez la cellule ci-dessous illustrant la concaténation."
   ]
  },
  {
   "cell_type": "code",
   "execution_count": null,
   "metadata": {},
   "outputs": [],
   "source": [
    "(1, 'toto') + (2,)"
   ]
  },
  {
   "cell_type": "markdown",
   "metadata": {},
   "source": [
    "### 1.4. Ajout d'un élément en dernière position d'un tuple\n",
    "\n",
    "La fonction *ajout_queue()*, prenant *t* (le tuple à modifier) et *elt* (l'élément à ajouter) en argument, ajoute un élément en dernière position d'un tuple. \n",
    "\n",
    "Pour réaliser cela : \n",
    "- on crée un tuple vide (ligne 2),\n",
    "- on réalise un parcours par index pour recopier chaque élément de *t* dans ce nouveau tuple (lignes 3 et 4),\n",
    "- on ajoute *elt* à ce nouveau tuple (ligne 6).\n",
    "\n",
    "![algorithme](algo-1.png)"
   ]
  },
  {
   "cell_type": "markdown",
   "metadata": {},
   "source": [
    "Une implémentation de cet algorithme est présenté ci-dessous.\n",
    "> **Travail à faire** : Exécutez la cellule ci-dessous"
   ]
  },
  {
   "cell_type": "code",
   "execution_count": null,
   "metadata": {},
   "outputs": [],
   "source": [
    "def ajout_queue(t, elt):\n",
    "    \"\"\"ajout d'un élément en dernière position d'un tuple\n",
    "    Entrées : t (un tuple) et elt (l'élément à ajouter)\n",
    "    Sortie : new_tup : un tuple\n",
    "    \"\"\"\n",
    "    new_tup = ()\n",
    "    longueur = len(t)\n",
    "    for i in range (0, longueur, 1):\n",
    "        new_tup = new_tup + (t[i],)\n",
    "    new_tup = new_tup + (elt,)\n",
    "    return new_tup"
   ]
  },
  {
   "cell_type": "markdown",
   "metadata": {},
   "source": [
    "L'appel de cette fonction s'effectue de façon classique.\n",
    "> **Travail à faire** : Exécutez les trois cellules ci-dessous pour voir trois exemples d'appel"
   ]
  },
  {
   "cell_type": "code",
   "execution_count": null,
   "metadata": {},
   "outputs": [],
   "source": [
    "ajout_queue(t, 2)"
   ]
  },
  {
   "cell_type": "code",
   "execution_count": null,
   "metadata": {},
   "outputs": [],
   "source": [
    "ajout_queue(t, 'but')"
   ]
  },
  {
   "cell_type": "code",
   "execution_count": null,
   "metadata": {},
   "outputs": [],
   "source": [
    "ajout_queue(t, (2, 'but'))"
   ]
  },
  {
   "cell_type": "markdown",
   "metadata": {},
   "source": [
    "On peut ensuite affecter la valeur renvoyée par la fonction *ajout_queue()* à *t*.\n",
    "> **Travail à faire** : Exécutez la cellule ci-dessous et observez la modification de *t*"
   ]
  },
  {
   "cell_type": "code",
   "execution_count": null,
   "metadata": {},
   "outputs": [],
   "source": [
    "print(t)\n",
    "t = ajout_queue(t, (2, 'but'))\n",
    "print(t)"
   ]
  },
  {
   "cell_type": "markdown",
   "metadata": {},
   "source": [
    "---\n",
    "## 2. Ajout d'un élément à un tuple"
   ]
  },
  {
   "cell_type": "markdown",
   "metadata": {},
   "source": [
    "### 2.1. Ajout en tête\n",
    "\n",
    "On souhaite écrire une fonction *ajout_tete()* prenant *t* (un tuple) et *elt* (l'élement à ajouter), et renvoyant un tuple permettant d'ajouter un élément au début du tuple.\n",
    "> **Travail à faire** : Exécutez la cellule ci-dessous pour voir un exemple d'exécution"
   ]
  },
  {
   "cell_type": "code",
   "execution_count": null,
   "metadata": {},
   "outputs": [],
   "source": [
    "exo_ajout_tete.example(2)"
   ]
  },
  {
   "cell_type": "markdown",
   "metadata": {},
   "source": [
    "> **Travail à faire** : complétez la fonction ci-dessous"
   ]
  },
  {
   "cell_type": "code",
   "execution_count": null,
   "metadata": {},
   "outputs": [],
   "source": [
    "def ajout_tete(t, elt):\n",
    "    \"\"\"ajout d'un élément en première position d'un tuple\n",
    "    Entrées : t (un tuple) et elt (l'élément à ajouter)\n",
    "    Sortie : new_tup : un tuple\n",
    "    \"\"\"    \n",
    "    ##--Indiquez le code Python, puis cliquez sur Run--##\n",
    "    \n",
    "    return new_tup"
   ]
  },
  {
   "cell_type": "markdown",
   "metadata": {},
   "source": [
    "> **Travail à faire** : Vérifiez votre code en exécutant la cellule ci-dessous. \n",
    "\n",
    "Si une case rouge apparaît, c'est que le code entré à la cellule précédente est faux. Corrigez votre travail, exécutez la cellule précédente puis à nouveau la prochaine."
   ]
  },
  {
   "cell_type": "code",
   "execution_count": null,
   "metadata": {},
   "outputs": [],
   "source": [
    "exo_ajout_tete.correction(ajout_tete)"
   ]
  },
  {
   "cell_type": "markdown",
   "metadata": {},
   "source": [
    "On souhaite ajouter 12 au tuple `t` en utilisant la fonction *ajout_tete()*. Indiquez dans la cellule ci-dessous la ligne de code qu'il faut exécuter."
   ]
  },
  {
   "cell_type": "code",
   "execution_count": null,
   "metadata": {},
   "outputs": [],
   "source": [
    "t = ('foo', 'bier', 'baz', 7, ('bar', 'bot'), 29)\n",
    "##--Indiquez ci-dessous le code Python, puis cliquez sur Run--##\n"
   ]
  },
  {
   "cell_type": "markdown",
   "metadata": {},
   "source": [
    "### 2.2. Ajout en position i\n",
    "\n",
    "On souhaite écrire une fonction *ajout_position()* prenant *t* (un tuple), *elt* (l'élement à ajouter) et *i* (la position où insérer *elt*), et renvoyant un tuple permettant d'ajouter un élément en position i du tuple.\n",
    "> **Travail à faire** : Exécutez la cellule ci-dessous pour voir un exemple d'exécution"
   ]
  },
  {
   "cell_type": "code",
   "execution_count": null,
   "metadata": {},
   "outputs": [],
   "source": [
    "exo_ajout_position.example(2)"
   ]
  },
  {
   "cell_type": "markdown",
   "metadata": {},
   "source": [
    "> **Travail à faire** : complétez la fonction ci-dessous"
   ]
  },
  {
   "cell_type": "code",
   "execution_count": null,
   "metadata": {},
   "outputs": [],
   "source": [
    "def ajout_position(t, elt, i):\n",
    "    \"\"\"ajout d'un élément en position i d'un tuple\n",
    "    Entrées : t (un tuple), elt (l'élément à ajouter) et i (la position)\n",
    "    Sortie : new_tup : un tuple\n",
    "    \"\"\"    \n",
    "    ##--Indiquez le code Python, puis cliquez sur Run--##\n",
    "    \n",
    "    return new_tup"
   ]
  },
  {
   "cell_type": "markdown",
   "metadata": {},
   "source": [
    "> **Travail à faire** : Vérifiez votre code en exécutant la cellule ci-dessous. \n",
    "\n",
    "Si une case rouge apparaît, c'est que le code entré à la cellule précédente est faux. Corrigez votre travail, exécutez la cellule précédente puis à nouveau la prochaine."
   ]
  },
  {
   "cell_type": "code",
   "execution_count": null,
   "metadata": {},
   "outputs": [],
   "source": [
    "exo_ajout_position.correction(ajout_position)"
   ]
  },
  {
   "cell_type": "markdown",
   "metadata": {},
   "source": [
    "On souhaite ajouter 12 au tuple `t` en position 3 en utilisant la fonction *ajout_position()*. Indiquez dans la cellule ci-dessous la ligne de code qu'il faut exécuter."
   ]
  },
  {
   "cell_type": "code",
   "execution_count": null,
   "metadata": {},
   "outputs": [],
   "source": [
    "t = ('foo', 'bier', 'baz', 7, ('bar', 'bot'), 29)\n",
    "##--Indiquez ci-dessous le code Python, puis cliquez sur Run--##\n"
   ]
  },
  {
   "cell_type": "markdown",
   "metadata": {},
   "source": [
    "---\n",
    "## 3. Suppression d'un élément d'un tuple"
   ]
  },
  {
   "cell_type": "markdown",
   "metadata": {},
   "source": [
    "### 3.1. Suppression en queue\n",
    "\n",
    "On souhaite écrire une fonction *supp_queue()* prenant *t* (un tuple) en argument, et renvoyant le même tuple sans l'élément de fin.\n",
    "> **Travail à faire** : Exécutez la cellule ci-dessous pour voir un exemple d'exécution"
   ]
  },
  {
   "cell_type": "code",
   "execution_count": null,
   "metadata": {},
   "outputs": [],
   "source": [
    "exo_supp_queue.example(2)"
   ]
  },
  {
   "cell_type": "markdown",
   "metadata": {},
   "source": [
    "> **Travail à faire** : complétez la fonction ci-dessous"
   ]
  },
  {
   "cell_type": "code",
   "execution_count": null,
   "metadata": {},
   "outputs": [],
   "source": [
    "def supp_queue(t):\n",
    "    \"\"\"suppression d'un élément en dernière position d'un tuple\n",
    "    Entrées : t (un tuple)\n",
    "    Sortie : new_tup : un tuple\n",
    "    \"\"\"    \n",
    "    ##--Indiquez le code Python, puis cliquez sur Run--##\n",
    "    \n",
    "    return new_tup"
   ]
  },
  {
   "cell_type": "markdown",
   "metadata": {},
   "source": [
    "> **Travail à faire** : Vérifiez votre code en exécutant la cellule ci-dessous. \n",
    "\n",
    "Si une case rouge apparaît, c'est que le code entré à la cellule précédente est faux. Corrigez votre travail, exécutez la cellule précédente puis à nouveau la prochaine."
   ]
  },
  {
   "cell_type": "code",
   "execution_count": null,
   "metadata": {},
   "outputs": [],
   "source": [
    "exo_supp_queue.correction(supp_queue)"
   ]
  },
  {
   "cell_type": "markdown",
   "metadata": {},
   "source": [
    "On souhaite supprimer la dernière valeur de *t* en utilisant la fonction *supp_queue()*. Indiquez dans la cellule ci-dessous la ligne de code qu'il faut exécuter."
   ]
  },
  {
   "cell_type": "code",
   "execution_count": null,
   "metadata": {},
   "outputs": [],
   "source": [
    "t = ('foo', 'bier', 'baz', 7, ('bar', 'bot'), 29)\n",
    "##--Indiquez ci-dessous le code Python, puis cliquez sur Run--##\n"
   ]
  },
  {
   "cell_type": "markdown",
   "metadata": {},
   "source": [
    "### 3.2. Suppression en tête\n",
    "\n",
    "On souhaite écrire une fonction *supp_tete()* prenant *t* (un tuple) en argument, et renvoyant le même tuple sans l'élément du début.\n",
    "> **Travail à faire** : Exécutez la cellule ci-dessous pour voir un exemple d'exécution"
   ]
  },
  {
   "cell_type": "code",
   "execution_count": null,
   "metadata": {},
   "outputs": [],
   "source": [
    "exo_supp_tete.example(2)"
   ]
  },
  {
   "cell_type": "markdown",
   "metadata": {},
   "source": [
    "> **Travail à faire** : complétez la fonction ci-dessous"
   ]
  },
  {
   "cell_type": "code",
   "execution_count": null,
   "metadata": {},
   "outputs": [],
   "source": [
    "def supp_tete(t):\n",
    "    \"\"\"suppression d'un élément en première position d'un tuple\n",
    "    Entrées : t (un tuple)\n",
    "    Sortie : new_tup : un tuple\n",
    "    \"\"\"    \n",
    "    ##--Indiquez le code Python, puis cliquez sur Run--##\n",
    "    \n",
    "    return new_tup"
   ]
  },
  {
   "cell_type": "markdown",
   "metadata": {},
   "source": [
    "> **Travail à faire** : Vérifiez votre code en exécutant la cellule ci-dessous. \n",
    "\n",
    "Si une case rouge apparaît, c'est que le code entré à la cellule précédente est faux. Corrigez votre travail, exécutez la cellule précédente puis à nouveau la prochaine."
   ]
  },
  {
   "cell_type": "code",
   "execution_count": null,
   "metadata": {},
   "outputs": [],
   "source": [
    "exo_supp_tete.correction(supp_tete)"
   ]
  },
  {
   "cell_type": "markdown",
   "metadata": {},
   "source": [
    "On souhaite supprimer la première valeur de *t* en utilisant la fonction *supp_tete()*. Indiquez dans la cellule ci-dessous la ligne de code qu'il faut exécuter."
   ]
  },
  {
   "cell_type": "code",
   "execution_count": null,
   "metadata": {},
   "outputs": [],
   "source": [
    "t = ('foo', 'bier', 'baz', 7, ('bar', 'bot'), 29)\n",
    "##--Indiquez ci-dessous le code Python, puis cliquez sur Run--##\n"
   ]
  },
  {
   "cell_type": "markdown",
   "metadata": {},
   "source": [
    "### 3.3. Suppression de la position i\n",
    "\n",
    "On souhaite écrire une fonction *supp_position()* prenant *t* (un tuple) et *i* (la position de l'élément à supprimer), et renvoyant le même tuple sans le ième élément.\n",
    "> **Travail à faire** : Exécutez la cellule ci-dessous pour voir un exemple d'exécution"
   ]
  },
  {
   "cell_type": "code",
   "execution_count": null,
   "metadata": {},
   "outputs": [],
   "source": [
    "exo_supp_position.example(2)"
   ]
  },
  {
   "cell_type": "markdown",
   "metadata": {},
   "source": [
    "> **Travail à faire** : complétez la fonction ci-dessous"
   ]
  },
  {
   "cell_type": "code",
   "execution_count": null,
   "metadata": {},
   "outputs": [],
   "source": [
    "def supp_position(t, i):\n",
    "    \"\"\"suppression d'un élément en ième position d'un tuple\n",
    "    Entrées : t (un tuple) et i (la position)\n",
    "    Sortie : new_tup : un tuple\n",
    "    \"\"\"    \n",
    "    ##--Indiquez le code Python, puis cliquez sur Run--##\n",
    "    \n",
    "    return new_tup"
   ]
  },
  {
   "cell_type": "markdown",
   "metadata": {},
   "source": [
    "> **Travail à faire** : Vérifiez votre code en exécutant la cellule ci-dessous. \n",
    "\n",
    "Si une case rouge apparaît, c'est que le code entré à la cellule précédente est faux. Corrigez votre travail, exécutez la cellule précédente puis à nouveau la prochaine."
   ]
  },
  {
   "cell_type": "code",
   "execution_count": null,
   "metadata": {},
   "outputs": [],
   "source": [
    "exo_supp_position.correction(supp_position)"
   ]
  },
  {
   "cell_type": "markdown",
   "metadata": {},
   "source": [
    "On souhaite supprimer l'élément en position 3 du tuple `t` en utilisant la fonction *supp_position()*. Indiquez dans la cellule ci-dessous la ligne de code qu'il faut exécuter."
   ]
  },
  {
   "cell_type": "code",
   "execution_count": null,
   "metadata": {},
   "outputs": [],
   "source": [
    "t = ('foo', 'bier', 'baz', 7, ('bar', 'bot'), 29)\n",
    "##--Indiquez ci-dessous le code Python, puis cliquez sur Run--##\n"
   ]
  },
  {
   "cell_type": "markdown",
   "metadata": {},
   "source": [
    "---\n",
    "Enregistrez votre Notebook (voir image ci-dessous), puis déposez-le dans le casier de votre professeur.\n",
    "\n",
    "![enregistrer](enregistrer.png)"
   ]
  },
  {
   "cell_type": "markdown",
   "metadata": {},
   "source": [
    "Déposez votre notebook dans le casier de votre professeur"
   ]
  }
 ],
 "metadata": {
  "kernelspec": {
   "display_name": "Python 3",
   "language": "python",
   "name": "python3"
  },
  "language_info": {
   "codemirror_mode": {
    "name": "ipython",
    "version": 3
   },
   "file_extension": ".py",
   "mimetype": "text/x-python",
   "name": "python",
   "nbconvert_exporter": "python",
   "pygments_lexer": "ipython3",
   "version": "3.8.3"
  }
 },
 "nbformat": 4,
 "nbformat_minor": 4
}
