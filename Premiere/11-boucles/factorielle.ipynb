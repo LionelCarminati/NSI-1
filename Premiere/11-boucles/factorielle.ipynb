{
 "cells": [
  {
   "cell_type": "markdown",
   "metadata": {},
   "source": [
    "# Factorielle d'un nombre"
   ]
  },
    {
   "cell_type": "markdown",
   "metadata": {},
   "source": [
    ">**Travail à faire** : Exécutez la cellule ci-dessous pour importer les modules nécessaire à l'exécution du notebook"
   ]
  },
  {
   "cell_type": "code",
   "execution_count": null,
   "metadata": {},
   "outputs": [],
   "source": [
    "from solution import *"
   ]
  },
  {
   "cell_type": "markdown",
   "metadata": {},
   "source": [
    "En mathématiques, la factorielle d'un entier naturel n est le produit des nombres entiers strictement positifs inférieurs ou égaux à n. Cette opération est notée avec un point d'exclamation, n!, ce qui se lit « factorielle de n ». \n",
    "Par exemple, on a :  \n",
    ">1! = 1  \n",
    ">2! = 1 × 2 = 2  \n",
    ">3! = 1 × 2 × 3 = 6  \n",
    "\n",
    "On souhaite écrire un programme qui calcule factorielle de n, un entier demandé à l’utilisateur au début du programme.\n",
    "\n",
    "![algo_factorielle](algo_factorielle.png)\n",
    "\n",
    "> **Travail à faire** : Exécutez la cellule ci-dessous pour voir un exemple d'exécution"
   ]
  },
  {
   "cell_type": "code",
   "execution_count": null,
   "metadata": {},
   "outputs": [],
   "source": [
    "exo_factorielle.example(2)"
   ]
  },
  {
   "cell_type": "markdown",
   "metadata": {},
   "source": [
    "> **Travail à faire** : complétez la fonction factorielle ci-dessous"
   ]
  },
  {
   "cell_type": "code",
   "execution_count": 1,
   "metadata": {},
   "outputs": [],
   "source": [
    "def factorielle(nombre):\n",
    "    \"\"\"calcul de la factorielle d'un nombre\n",
    "    entrée : un entier\n",
    "    sortie : la factorielle de cette entrée\n",
    "    exemple : factorielle(5) = 5 x 4 x 3 x 2 x 1 = 120\n",
    "    \"\"\"\n",
    "    \n",
    "    ##--Indiquez le code Python, puis cliquez sur Run--##\n",
    "    \n",
    "    return resultat"
   ]
  },
  {
   "cell_type": "markdown",
   "metadata": {},
   "source": [
    "> **Travail à faire** : Vérifiez votre code en exécutant la cellule ci-dessous. \n",
    "\n",
    "Si une case rouge apparaît, c'est que le code entré à la cellule précédente est faux. Corrigez votre travail, exécutez la cellule précédente puis à nouveau la prochaine."
   ]
  },
  {
   "cell_type": "code",
   "execution_count": null,
   "metadata": {},
   "outputs": [],
   "source": [
    "exo_factorielle.correction(factorielle)"
   ]
  },
  {
   "cell_type": "markdown",
   "metadata": {},
   "source": [
    "On souhaite connaître la factorielle de 12. Indiquez dans la cellule ci-dessous la ligne de code qu'il faut exécuter."
   ]
  },
  {
   "cell_type": "code",
   "execution_count": null,
   "metadata": {},
   "outputs": [],
   "source": [
    "##--Indiquez le code Python, puis cliquez sur Run--##"
   ]
  },
  {
   "cell_type": "markdown",
   "metadata": {},
   "source": [
    "---\n",
    "Enregistrez votre Notebook (voir image ci-dessous), puis déposez-le dans le casier de votre professeur.\n",
    "\n",
    "![enregistrer](enregistrer.png)"
   ]
  }
 ],
 "metadata": {
  "kernelspec": {
   "display_name": "Python 3",
   "language": "python",
   "name": "python3"
  },
  "language_info": {
   "codemirror_mode": {
    "name": "ipython",
    "version": 3
   },
   "file_extension": ".py",
   "mimetype": "text/x-python",
   "name": "python",
   "nbconvert_exporter": "python",
   "pygments_lexer": "ipython3",
   "version": "3.8.3"
  }
 },
 "nbformat": 4,
 "nbformat_minor": 4
}
